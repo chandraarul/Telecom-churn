{
 "cells": [
  {
   "cell_type": "code",
   "execution_count": 38,
   "id": "14a73e31-5996-40e0-8e62-3165d37b5bf0",
   "metadata": {},
   "outputs": [],
   "source": [
    "import pandas as pd\n",
    "import numpy as np\n",
    "from sklearn.model_selection import train_test_split\n",
    "from sklearn.preprocessing import LabelEncoder, StandardScaler\n",
    "from imblearn.over_sampling import SMOTE\n",
    "from sklearn.ensemble import RandomForestClassifier\n",
    "from sklearn.metrics import accuracy_score, classification_report"
   ]
  },
  {
   "cell_type": "code",
   "execution_count": 40,
   "id": "5541b493-b4bb-4c5d-b9bd-dcb2db2189e5",
   "metadata": {},
   "outputs": [
    {
     "name": "stdout",
     "output_type": "stream",
     "text": [
      "Accuracy: 0.88\n",
      "              precision    recall  f1-score   support\n",
      "\n",
      "           0       0.90      0.85      0.87       505\n",
      "           1       0.86      0.91      0.89       530\n",
      "\n",
      "    accuracy                           0.88      1035\n",
      "   macro avg       0.88      0.88      0.88      1035\n",
      "weighted avg       0.88      0.88      0.88      1035\n",
      "\n"
     ]
    }
   ],
   "source": [
    "df = pd.read_csv(r\"C:\\Users\\user\\Downloads\\telecom_churn_expanded.csv\") \n",
    "\n",
    "df.drop([\"customerID\"], axis=1, inplace=True)  \n",
    "\n",
    "categorical_cols = df.select_dtypes(include=[\"object\"]).columns\n",
    "for col in categorical_cols:\n",
    "    df[col] = LabelEncoder().fit_transform(df[col])\n",
    "\n",
    "df.fillna(df.median(numeric_only=True), inplace=True)  \n",
    "df.fillna(df.mode().iloc[0], inplace=True)  \n",
    "\n",
    "X = df.drop(\"Churn\", axis=1)  \n",
    "y = df[\"Churn\"]  # Target\n",
    "\n",
    "# Balance data using SMOTE\n",
    "smote = SMOTE(random_state=42)\n",
    "X_resampled, y_resampled = smote.fit_resample(X, y)\n",
    "\n",
    "# Split dataset\n",
    "X_train, X_test, y_train, y_test = train_test_split(X_resampled, y_resampled, test_size=0.1, random_state=42)\n",
    "\n",
    "# Scale data for better performance\n",
    "scaler = StandardScaler()\n",
    "X_train = scaler.fit_transform(X_train)\n",
    "X_test = scaler.transform(X_test)\n",
    "\n",
    "# Train model\n",
    "model = RandomForestClassifier(n_estimators=200, random_state=42)\n",
    "model.fit(X_train, y_train)\n",
    "\n",
    "# Predictions\n",
    "y_pred = model.predict(X_test)\n",
    "\n",
    "# Evaluate model\n",
    "accuracy = accuracy_score(y_test, y_pred)\n",
    "print(f\"Accuracy: {accuracy:.2f}\")\n",
    "print(classification_report(y_test, y_pred))"
   ]
  },
  {
   "cell_type": "code",
   "execution_count": 54,
   "id": "6511bfb1-20e7-44bf-93f6-0dd49639ea90",
   "metadata": {},
   "outputs": [
    {
     "name": "stderr",
     "output_type": "stream",
     "text": [
      "C:\\Users\\user\\anaconda3\\Lib\\site-packages\\xgboost\\core.py:158: UserWarning: [22:12:05] WARNING: C:\\buildkite-agent\\builds\\buildkite-windows-cpu-autoscaling-group-i-0c55ff5f71b100e98-1\\xgboost\\xgboost-ci-windows\\src\\learner.cc:740: \n",
      "Parameters: { \"use_label_encoder\" } are not used.\n",
      "\n",
      "  warnings.warn(smsg, UserWarning)\n"
     ]
    },
    {
     "name": "stdout",
     "output_type": "stream",
     "text": [
      "\n",
      "🔹 XGBoost Performance:\n",
      "Accuracy: 0.84\n",
      "              precision    recall  f1-score   support\n",
      "\n",
      "           0       0.84      0.82      0.83       505\n",
      "           1       0.83      0.85      0.84       530\n",
      "\n",
      "    accuracy                           0.84      1035\n",
      "   macro avg       0.84      0.84      0.84      1035\n",
      "weighted avg       0.84      0.84      0.84      1035\n",
      "\n"
     ]
    }
   ],
   "source": [
    "from xgboost import XGBClassifier\n",
    "model2 = XGBClassifier(n_estimators=200, learning_rate=0.1, random_state=42, use_label_encoder=False, eval_metric=\"logloss\")\n",
    "model2.fit(X_train, y_train)\n",
    "y_pred_xgb = model2.predict(X_test)\n",
    "print(\"\\n🔹 XGBoost Performance:\")\n",
    "print(f\"Accuracy: {accuracy_score(y_test, y_pred_xgb):.2f}\")\n",
    "print(classification_report(y_test, y_pred_xgb))"
   ]
  },
  {
   "cell_type": "code",
   "execution_count": 42,
   "id": "67947ea5-3f2d-44eb-86d3-e04fef148a1d",
   "metadata": {},
   "outputs": [],
   "source": [
    "import shap\n",
    "import matplotlib.pyplot as plt\n"
   ]
  },
  {
   "cell_type": "code",
   "execution_count": 49,
   "id": "c3b3160d-8976-4a4c-8c7d-188d2f1be19b",
   "metadata": {},
   "outputs": [
    {
     "ename": "AttributeError",
     "evalue": "'numpy.ndarray' object has no attribute 'columns'",
     "output_type": "error",
     "traceback": [
      "\u001b[1;31m---------------------------------------------------------------------------\u001b[0m",
      "\u001b[1;31mAttributeError\u001b[0m                            Traceback (most recent call last)",
      "Cell \u001b[1;32mIn[49], line 12\u001b[0m\n\u001b[0;32m      9\u001b[0m     shap_values \u001b[38;5;241m=\u001b[39m shap_values[\u001b[38;5;241m1\u001b[39m]  \n\u001b[0;32m     11\u001b[0m \u001b[38;5;66;03m# Convert SHAP values to a DataFrame\u001b[39;00m\n\u001b[1;32m---> 12\u001b[0m shap_df \u001b[38;5;241m=\u001b[39m pd\u001b[38;5;241m.\u001b[39mDataFrame(shap_values, columns\u001b[38;5;241m=\u001b[39mX_test\u001b[38;5;241m.\u001b[39mcolumns)  \n\u001b[0;32m     14\u001b[0m \u001b[38;5;66;03m# Get the top 5 features by mean absolute SHAP value\u001b[39;00m\n\u001b[0;32m     15\u001b[0m top_5_features \u001b[38;5;241m=\u001b[39m shap_df\u001b[38;5;241m.\u001b[39mabs()\u001b[38;5;241m.\u001b[39mmean()\u001b[38;5;241m.\u001b[39msort_values(ascending\u001b[38;5;241m=\u001b[39m\u001b[38;5;28;01mFalse\u001b[39;00m)\u001b[38;5;241m.\u001b[39mhead(\u001b[38;5;241m5\u001b[39m)\n",
      "\u001b[1;31mAttributeError\u001b[0m: 'numpy.ndarray' object has no attribute 'columns'"
     ]
    }
   ],
   "source": [
    "explainer = shap.TreeExplainer(model)\n",
    "\n",
    "# Compute SHAP values for test data\n",
    "shap_values = explainer.shap_values(X_test)\n",
    "\n",
    "# --- ✅ 1️⃣ Global Feature Importance (Top 5 factors affecting churn) ---\n",
    "# If SHAP returns a list (multi-class case), select the second class (Churn = 1)\n",
    "if isinstance(shap_values, list):\n",
    "    shap_values = shap_values[1]  \n",
    "\n",
    "# Convert SHAP values to a DataFrame\n",
    "shap_df = pd.DataFrame(shap_values, columns=X_test.columns)  \n",
    "\n",
    "# Get the top 5 features by mean absolute SHAP value\n",
    "top_5_features = shap_df.abs().mean().sort_values(ascending=False).head(5)\n",
    "\n",
    "# ✅ Plot Global SHAP Feature Importance\n",
    "plt.figure(figsize=(8, 5))\n",
    "top_5_features.plot(kind='bar', color='skyblue', edgecolor='black')\n",
    "plt.title(\"Top 5 Features Influencing Churn Prediction\")\n",
    "plt.ylabel(\"Mean |SHAP Value|\")\n",
    "plt.xlabel(\"Feature\")\n",
    "plt.xticks(rotation=45)\n",
    "plt.grid(axis=\"y\", linestyle=\"--\", alpha=0.7)\n",
    "plt.show()\n"
   ]
  },
  {
   "cell_type": "code",
   "execution_count": 44,
   "id": "343e2412-abb7-4338-a7b0-5aefdd96538e",
   "metadata": {},
   "outputs": [
    {
     "name": "stdout",
     "output_type": "stream",
     "text": [
      "Enter customer details:\n"
     ]
    },
    {
     "name": "stdin",
     "output_type": "stream",
     "text": [
      "Gender (1 for Female, 0 for Male):  0\n",
      "Senior Citizen (1 for Yes, 0 for No):  0\n",
      "Partner (1 for Yes, 0 for No):  0\n",
      "Dependents (1 for Yes, 0 for No):  0\n",
      "Tenure (in months, e.g., 12):  2\n",
      "Phone Service (1 for Yes, 0 for No):  0\n",
      "Paperless Billing (1 for Yes, 0 for No):  1\n",
      "Monthly Charges (e.g., 70):  53.85\n",
      "Total Charges (e.g., 840):  108.15\n",
      "Multiple Lines (0: No, 1: Yes, 2: No phone service):  0\n",
      "Internet Service (0: DSL, 1: Fiber optic, 2: No):  0\n",
      "Online Security (0: No, 1: Yes, 2: No internet service):  1\n",
      "Online Backup (0: No, 1: Yes, 2: No internet service):  1\n",
      "Device Protection (0: No, 1: Yes, 2: No internet service):  0\n",
      "Tech Support (0: No, 1: Yes, 2: No internet service):  0\n",
      "Streaming TV (0: No, 1: Yes, 2: No internet service):  0\n",
      "Streaming Movies (0: No, 1: Yes, 2: No internet service):  0\n",
      "Contract (0: Month-to-month, 1: One year, 2: Two year):  0\n",
      "Payment Method (0: Electronic check, 1: Mailed check, 2: Bank transfer (automatic), 3: Credit card (automatic)):  1\n"
     ]
    },
    {
     "name": "stdout",
     "output_type": "stream",
     "text": [
      "\n",
      "Prediction: The customer is likely to CHURN.\n"
     ]
    },
    {
     "name": "stderr",
     "output_type": "stream",
     "text": [
      "C:\\Users\\user\\anaconda3\\Lib\\site-packages\\sklearn\\base.py:493: UserWarning: X does not have valid feature names, but StandardScaler was fitted with feature names\n",
      "  warnings.warn(\n"
     ]
    }
   ],
   "source": [
    "import numpy as np\n",
    "\n",
    "# Get user input\n",
    "print(\"Enter customer details:\")\n",
    "\n",
    "gender = int(input(\"Gender (1 for Female, 0 for Male): \"))\n",
    "senior_citizen = int(input(\"Senior Citizen (1 for Yes, 0 for No): \"))\n",
    "partner = int(input(\"Partner (1 for Yes, 0 for No): \"))\n",
    "dependents = int(input(\"Dependents (1 for Yes, 0 for No): \"))\n",
    "tenure = float(input(\"Tenure (in months, e.g., 12): \"))\n",
    "phone_service = int(input(\"Phone Service (1 for Yes, 0 for No): \"))\n",
    "paperless_billing = int(input(\"Paperless Billing (1 for Yes, 0 for No): \"))\n",
    "monthly_charges = float(input(\"Monthly Charges (e.g., 70): \"))\n",
    "total_charges = float(input(\"Total Charges (e.g., 840): \"))\n",
    "\n",
    "multiple_lines = int(input(\"Multiple Lines (0: No, 1: Yes, 2: No phone service): \"))\n",
    "internet_service = int(input(\"Internet Service (0: DSL, 1: Fiber optic, 2: No): \"))\n",
    "online_security = int(input(\"Online Security (0: No, 1: Yes, 2: No internet service): \"))\n",
    "online_backup = int(input(\"Online Backup (0: No, 1: Yes, 2: No internet service): \"))\n",
    "device_protection = int(input(\"Device Protection (0: No, 1: Yes, 2: No internet service): \"))\n",
    "tech_support = int(input(\"Tech Support (0: No, 1: Yes, 2: No internet service): \"))\n",
    "streaming_tv = int(input(\"Streaming TV (0: No, 1: Yes, 2: No internet service): \"))\n",
    "streaming_movies = int(input(\"Streaming Movies (0: No, 1: Yes, 2: No internet service): \"))\n",
    "\n",
    "contract = int(input(\"Contract (0: Month-to-month, 1: One year, 2: Two year): \"))\n",
    "payment_method = int(input(\"Payment Method (0: Electronic check, 1: Mailed check, 2: Bank transfer (automatic), 3: Credit card (automatic)): \"))\n",
    "\n",
    "# Create input array\n",
    "input_data = np.array([[gender, senior_citizen, partner, dependents, tenure, phone_service,\n",
    "                        paperless_billing, monthly_charges, total_charges, multiple_lines,\n",
    "                        internet_service, online_security, online_backup, device_protection,\n",
    "                        tech_support, streaming_tv, streaming_movies, contract, payment_method]])\n",
    "\n",
    "# Scale input data using the same scaler from training\n",
    "input_data_scaled = scaler.transform(input_data)\n",
    "\n",
    "# Make prediction\n",
    "prediction = model.predict(input_data_scaled)\n",
    "\n",
    "# Output result\n",
    "if prediction[0] == 1:\n",
    "    print(\"\\nPrediction: The customer is likely to CHURN.\")\n",
    "else:\n",
    "    print(\"\\nPrediction: The customer is likely to STAY.\")\n"
   ]
  },
  {
   "cell_type": "code",
   "execution_count": null,
   "id": "aba805c0-1e94-48c7-a284-38a4bcc299b8",
   "metadata": {},
   "outputs": [],
   "source": [
    "3668-QPYBK\tMale\t0\t              No\tNo\t           2\tYes\t             No\t               DSL\t           Yes\t                Yes\t         No\t               No\t      No\t       No   \tMonth-to-month\tYes            \tMailed check\t    53.85         \t108.15\tYes\n",
    "customerID\tgender\tSeniorCitizen\tPartner\tDependents\ttenure\tPhoneService\tMultipleLines\tInternetService\tOnlineSecurity\tOnlineBackup\tDeviceProtection\tTechSupport\tStreamingTV\tStreamingMovies\tContract\tPaperlessBilling\tPaymentMethod\tMonthlyCharges\tTotalCharges\tChurn\n"
   ]
  },
  {
   "cell_type": "code",
   "execution_count": null,
   "id": "f64122cd-2db9-4ba5-bdb8-e4fe5dcb2f58",
   "metadata": {},
   "outputs": [],
   "source": [
    "shap_input = scaler.transform(input_data.reshape(1, -1))  \n",
    "\n",
    "# Compute SHAP values for this single input\n",
    "shap_values_single = explainer.shap_values(shap_input)\n",
    "\n",
    "# If SHAP returns a list, select the second class (Churn = 1)\n",
    "if isinstance(shap_values_single, list):\n",
    "    shap_values_single = shap_values_single[1][0]  # Take SHAP values for class 1 (Churn)\n",
    "\n",
    "# ✅ Create SHAP Explanation Object for the specific prediction\n",
    "shap_explanation = shap.Explanation(\n",
    "    values=shap_values_single,  \n",
    "    base_values=explainer.expected_value[1],  # Expected value for class 1 (Churn)\n",
    "    data=shap_input[0],  \n",
    "    feature_names=X_test.columns.tolist()  \n",
    ")\n",
    "\n",
    "# ✅ Waterfall Plot (Top 5 Reasons for this Customer's Churn Prediction)\n",
    "shap.plots.waterfall(shap_explanation, max_display=5)"
   ]
  },
  {
   "cell_type": "code",
   "execution_count": null,
   "id": "00eecffd-ca5d-4dfb-858f-7add501b133a",
   "metadata": {},
   "outputs": [],
   "source": []
  }
 ],
 "metadata": {
  "kernelspec": {
   "display_name": "Python 3 (ipykernel)",
   "language": "python",
   "name": "python3"
  },
  "language_info": {
   "codemirror_mode": {
    "name": "ipython",
    "version": 3
   },
   "file_extension": ".py",
   "mimetype": "text/x-python",
   "name": "python",
   "nbconvert_exporter": "python",
   "pygments_lexer": "ipython3",
   "version": "3.12.4"
  }
 },
 "nbformat": 4,
 "nbformat_minor": 5
}
